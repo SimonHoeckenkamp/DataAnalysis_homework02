{
 "cells": [
  {
   "cell_type": "markdown",
   "metadata": {},
   "source": [
    "## 5. Problem 2: Larger unlabeled subset (Written Report)"
   ]
  },
  {
   "cell_type": "code",
   "execution_count": 228,
   "metadata": {},
   "outputs": [],
   "source": [
    "import numpy as np\n",
    "\n",
    "from sklearn.decomposition import PCA\n",
    "from sklearn.manifold import MDS\n",
    "from sklearn.manifold import TSNE\n",
    "from sklearn.cluster import KMeans\n",
    "\n",
    "from sklearn.model_selection import train_test_split\n",
    "from sklearn.linear_model import LogisticRegression\n",
    "\n",
    "import matplotlib.pyplot as plt\n",
    "\n",
    "from sklearn.metrics import silhouette_score, silhouette_samples\n",
    "from yellowbrick.cluster import SilhouetteVisualizer\n",
    "from yellowbrick.style import rcmod\n",
    "from yellowbrick.style.colors import resolve_colors"
   ]
  },
  {
   "cell_type": "code",
   "execution_count": 229,
   "metadata": {},
   "outputs": [],
   "source": [
    "# ignore warning\n",
    "import warnings \n",
    "warnings.simplefilter(action=\"ignore\", category=plt.cbook.MatplotlibDeprecationWarning)\n",
    "rcmod.reset_orig()"
   ]
  },
  {
   "cell_type": "code",
   "execution_count": 230,
   "metadata": {},
   "outputs": [
    {
     "name": "stdout",
     "output_type": "stream",
     "text": [
      "1: Number of Cells (number of rows): 2169\n",
      "1: Number of Genes (number of columns): 45768\n",
      "2: largest entry in the first column of processed data: 5.972169\n"
     ]
    }
   ],
   "source": [
    "# load the data\n",
    "path = \"../01_data/data/p2_unsupervised/\"\n",
    "X_orig = np.load(path + \"X.npy\")\n",
    "X = np.log2(X_orig+1)\n",
    "print(\"1: Number of Cells (number of rows): {}\".format(X.shape[0]))\n",
    "print(\"1: Number of Genes (number of columns): {}\".format(X.shape[1]))\n",
    "\n",
    "print(\"2: largest entry in the first column of processed data: {:.7}\".format(X[:,0].max()))"
   ]
  },
  {
   "cell_type": "markdown",
   "metadata": {},
   "source": [
    "## Data preparation\n",
    "\n",
    "1. Reduce the dimensionality of the transformed date via PCA.\n",
    "2. Split the dataset into different clusters (K-Means).\n",
    "3. Set the number of clusters."
   ]
  },
  {
   "cell_type": "code",
   "execution_count": 231,
   "metadata": {},
   "outputs": [],
   "source": [
    "# fit the model with X and apply the dimensionality reduction, \n",
    "# in the following only the first 50 PC's will be used\n",
    "X_PCA = PCA(n_components=500).fit_transform(X)"
   ]
  },
  {
   "cell_type": "code",
   "execution_count": 232,
   "metadata": {},
   "outputs": [
    {
     "name": "stdout",
     "output_type": "stream",
     "text": [
      "101.0%\r"
     ]
    }
   ],
   "source": [
    "# calculate the WGSS for multiple cluster-models and the models itself\n",
    "max_no_cluster = 50\n",
    "X_KMeans = []\n",
    "X_KMeans_models = []\n",
    "WGSS = np.empty((max_no_cluster,2))\n",
    "for i in np.arange(1, max_no_cluster+1, 1):\n",
    "    print(\"{}%\".format(float(i*100)/max_no_cluster+1), end='\\r')\n",
    "    WGSS[i-1,0] = i\n",
    "    WGSS[i-1,1] = KMeans(n_clusters=i, n_init=10).fit(X_PCA[:,:50]).inertia_\n",
    "    X_KMeans.append(KMeans(n_clusters=i, n_init=10).fit_predict(X_PCA[:,:49]))\n",
    "    X_KMeans_models.append(KMeans(n_clusters=i, n_init=10).fit(X_PCA[:,:49]))"
   ]
  },
  {
   "cell_type": "code",
   "execution_count": 233,
   "metadata": {},
   "outputs": [],
   "source": [
    "avg_silhouette_score = [silhouette_score(X_PCA[:,:49], X_KMeans_models[i].labels_) for i in range(1, max_no_cluster)]"
   ]
  },
  {
   "cell_type": "code",
   "execution_count": 234,
   "metadata": {},
   "outputs": [
    {
     "name": "stdout",
     "output_type": "stream",
     "text": [
      "0.2981426314020305\n"
     ]
    },
    {
     "data": {
      "image/png": "[encoded data removed]",
      "text/plain": [
       "<Figure size 1080x360 with 2 Axes>"
      ]
     },
     "metadata": {
      "needs_background": "light"
     },
     "output_type": "display_data"
    }
   ],
   "source": [
    "# print silhuoette score and elbow plot\n",
    "print(avg_silhouette_score[1])\n",
    "\n",
    "fig, (ax1, ax2) = plt.subplots(1,2, figsize=(15,5))\n",
    "\n",
    "ax1.plot(np.arange(2,max_no_cluster+1), avg_silhouette_score)\n",
    "ax1.scatter(3, avg_silhouette_score[1])\n",
    "ax1.set_xlabel(\"number of clusters\")\n",
    "ax1.set_ylabel(\"average silhouette score\")\n",
    "\n",
    "ax2.plot(WGSS[:,0], WGSS[:,1])\n",
    "ax2.scatter(3, WGSS[2,1])\n",
    "ax2.set_xlabel(\"number of clusters\")\n",
    "ax2.set_ylabel(\"WGSS\")\n",
    "plt.show\n",
    "plt.savefig(\"../03_report/problem_02/silhouette_elbow.png\", dpi=300)"
   ]
  },
  {
   "cell_type": "markdown",
   "metadata": {},
   "source": [
    "## Feature Selection\n",
    "\n",
    "* We use 3 clusters as labels for a supervised learning problem.\n",
    "* We use a logistical regression model\n",
    "* We use the original data to do so."
   ]
  },
  {
   "cell_type": "code",
   "execution_count": 235,
   "metadata": {},
   "outputs": [
    {
     "name": "stdout",
     "output_type": "stream",
     "text": [
      "1453\n",
      "716\n"
     ]
    }
   ],
   "source": [
    "# define the labels and split the data in train and test data sets \n",
    "y = X_KMeans_models[2].labels_\n",
    "X_train, X_test, y_train, y_test = train_test_split(X, y, test_size=0.33, random_state=42)\n",
    "\n",
    "print(len(y_train))\n",
    "print(len(y_test))"
   ]
  },
  {
   "cell_type": "code",
   "execution_count": 236,
   "metadata": {},
   "outputs": [
    {
     "name": "stdout",
     "output_type": "stream",
     "text": [
      "[LibLinear]score of test data for parameter {'l2'}: 0.9958100558659218\n",
      "[LibLinear]score of test data for parameter {'l1'}: 0.9958100558659218\n"
     ]
    }
   ],
   "source": [
    "# hyperparameter editing\n",
    "param = [\"l2\", \"l1\"]\n",
    "for i in param:\n",
    "    clf = LogisticRegression(penalty=i, random_state=0, solver=\"liblinear\", max_iter=100, verbose=1).fit(X_train, y_train)\n",
    "    print(\"score of test data for parameter {}: {}\" .format({i}, clf.score(X_test, y_test)))"
   ]
  },
  {
   "cell_type": "code",
   "execution_count": 237,
   "metadata": {},
   "outputs": [
    {
     "name": "stdout",
     "output_type": "stream",
     "text": [
      "[LibLinear]"
     ]
    }
   ],
   "source": [
    "# define the model\n",
    "clf = LogisticRegression(penalty=\"l2\", random_state=0, solver=\"liblinear\", max_iter=100, verbose=1).fit(X_train, y_train)"
   ]
  },
  {
   "cell_type": "code",
   "execution_count": 238,
   "metadata": {},
   "outputs": [
    {
     "name": "stdout",
     "output_type": "stream",
     "text": [
      "score of training data: 1.0\n",
      "score of test data:     0.996\n"
     ]
    }
   ],
   "source": [
    "# get the score of the model\n",
    "print(\"score of training data: {:.3}\" .format(clf.score(X_train, y_train)))\n",
    "print(\"score of test data:     {:.3}\" .format(clf.score(X_test, y_test)))"
   ]
  },
  {
   "cell_type": "markdown",
   "metadata": {},
   "source": [
    "## Expansion of insights on greater data sets\n",
    "\n",
    "1. Extract the 100 most important features from the data set.\n",
    "2. Read new data set and transform it.\n",
    "3. Train a logistic regression with the 100 selected features.\n",
    "4. Test the model with the test data.\n",
    "5. Repeat this procedure with a) 100 randomly chosen features, b) 100 features of highest variance.\n",
    "6. Plot histograms of variance of corresponding variances. "
   ]
  },
  {
   "cell_type": "code",
   "execution_count": 239,
   "metadata": {},
   "outputs": [],
   "source": [
    "# extract the 100 most important features from above\n",
    "features = np.argsort(np.sum(np.abs(clf.coef_),axis=0))[:100]"
   ]
  },
  {
   "cell_type": "code",
   "execution_count": 240,
   "metadata": {},
   "outputs": [],
   "source": [
    "# read the data and transform it like before \n",
    "path = \"../01_data/data/p2_evaluation/\"\n",
    "X_train = np.log2(np.load(path + \"X_train.npy\")+1)\n",
    "X_test = np.log2(np.load(path + \"X_test.npy\")+1)\n",
    "y_train = np.load(path + \"y_train.npy\")\n",
    "y_test = np.load(path + \"y_test.npy\")"
   ]
  },
  {
   "cell_type": "code",
   "execution_count": 241,
   "metadata": {},
   "outputs": [
    {
     "name": "stdout",
     "output_type": "stream",
     "text": [
      "score: 0.153\n"
     ]
    }
   ],
   "source": [
    "# feature selection of the 100 most important features of question 2.2\n",
    "clf_0 = LogisticRegression(penalty='l2', random_state=0, solver='liblinear').fit(X_train[:,features], y_train)\n",
    "print(\"score: {:.3}\".format(clf_0.score(X_test[:,features], y_test)))"
   ]
  },
  {
   "cell_type": "code",
   "execution_count": 242,
   "metadata": {},
   "outputs": [
    {
     "name": "stdout",
     "output_type": "stream",
     "text": [
      "score: 0.303\n"
     ]
    }
   ],
   "source": [
    "# feature selection of 100 randomly chosen features\n",
    "\n",
    "features_rand = np.random.randint(0, X_train.shape[1], 100)\n",
    "clf_rand = LogisticRegression(penalty='l2', random_state=0, solver='liblinear').fit(X_train[:,features_rand], y_train)\n",
    "print(\"score: {:.3}\".format(clf_rand.score(X_test[:,features_rand], y_test)))"
   ]
  },
  {
   "cell_type": "code",
   "execution_count": 254,
   "metadata": {},
   "outputs": [
    {
     "name": "stdout",
     "output_type": "stream",
     "text": [
      "score: 0.924\n"
     ]
    }
   ],
   "source": [
    "# feature selection according to highest variance of features\n",
    "features_var = np.argsort(np.var(X_train, axis=0))[-100:]\n",
    "clf_var = LogisticRegression(penalty='l2', random_state=0, solver='liblinear').fit(X_train[:,features_var], y_train)\n",
    "print(\"score: {:.3}\".format(clf_var.score(X_test[:,features_var], y_test)))"
   ]
  },
  {
   "cell_type": "code",
   "execution_count": 257,
   "metadata": {},
   "outputs": [
    {
     "data": {
      "image/png": "[encoded data removed]",
      "text/plain": [
       "<Figure size 432x288 with 1 Axes>"
      ]
     },
     "metadata": {
      "needs_background": "light"
     },
     "output_type": "display_data"
    }
   ],
   "source": [
    "plt.hist(np.var(X_train[:,features_rand], axis=0), bins = 20, density=True, label=\"random\", alpha=0.5)\n",
    "plt.hist(np.var(X_train[:,features_var], axis=0), bins = 20, density=True, label=\"highest variance\", alpha=0.5)\n",
    "plt.legend()\n",
    "plt.xlabel(\"variance\")\n",
    "plt.ylabel(\"density\")\n",
    "plt.grid(alpha=0.3)\n",
    "plt.show\n",
    "plt.savefig(\"../03_report/problem_02/historams_variance.png\", dpi=300)"
   ]
  }
 ],
 "metadata": {
  "kernelspec": {
   "display_name": "Python 3",
   "language": "python",
   "name": "python3"
  },
  "language_info": {
   "codemirror_mode": {
    "name": "ipython",
    "version": 3
   },
   "file_extension": ".py",
   "mimetype": "text/x-python",
   "name": "python",
   "nbconvert_exporter": "python",
   "pygments_lexer": "ipython3",
   "version": "3.7.11"
  }
 },
 "nbformat": 4,
 "nbformat_minor": 4
}
